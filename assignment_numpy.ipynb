{
 "cells": [
  {
   "cell_type": "markdown",
   "id": "d3df79dd",
   "metadata": {},
   "source": [
    "## Упражнения по библиотеке Numpy"
   ]
  },
  {
   "cell_type": "code",
   "execution_count": 1,
   "id": "76b9c43b",
   "metadata": {},
   "outputs": [],
   "source": [
    "import numpy as np"
   ]
  },
  {
   "cell_type": "markdown",
   "id": "03727b7c",
   "metadata": {},
   "source": [
    "**1.** Дан случайный массив, поменять знак у элементов, значения которых между 3 и 8"
   ]
  },
  {
   "cell_type": "code",
   "execution_count": 149,
   "id": "b89a7523",
   "metadata": {},
   "outputs": [],
   "source": [
    "#loop\n",
    "rand_array = np.random.randint(1, 10, 20) \n",
    "print(\"Before\", rand_array)\n",
    "for i in range(len(rand_array)):\n",
    "    if rand_array[i] in range(4,8):\n",
    "        rand_array[i] = -rand_array[i] \n",
    "print(\"After\", rand_array)\n",
    "\n",
    "#another one\n",
    "rand_array = np.arange(11)\n",
    "print(\"Before\", rand_array)\n",
    "rand_array[(3 < rand_array) & (rand_array < 8)] *= -1\n",
    "print(\"After\", rand_array)"
   ]
  },
  {
   "cell_type": "markdown",
   "id": "5fa4abda",
   "metadata": {},
   "source": [
    "**2.** Заменить максимальный элемент случайного массива на 0"
   ]
  },
  {
   "cell_type": "code",
   "execution_count": 150,
   "id": "f2788a6e",
   "metadata": {},
   "outputs": [],
   "source": [
    "rand_array = np.random.randint(1, 10, 20) \n",
    "print(\"Before\", rand_array)\n",
    "rand_array[list(rand_array).index(max(rand_array))] = 0\n",
    "print(\"After\", rand_array)\n",
    "\n",
    "#или\n",
    "\n",
    "rand_array_v1 = np.random.randint(1, 10, 20) \n",
    "print(\"Before\", rand_array_v1)\n",
    "rand_array_v1[rand_array_v1.argmax()] = 0\n",
    "print(\"After\", rand_array_v1)\n",
    "\n",
    "# или\n",
    "\n",
    "rand_array_2 = np.random.randint(1, 10, 20) \n",
    "max = rand_array_2[0] \n",
    "pos = 0\n",
    "print(\"\\nBefore\", rand_array_2)\n",
    "for i in range(1, len(rand_array_2)-1):\n",
    "    if max < rand_array_2[i]:\n",
    "        max  = rand_array_2[i]\n",
    "        pos = i\n",
    "rand_array_2[pos] = 0\n",
    "print(\"After\", rand_array_2)\n",
    "\n",
    "#еще reduce можно функцию max передать\n",
    "\n",
    "#function\n",
    "def find_max(array):\n",
    "    max = array[0]\n",
    "    pos = 0\n",
    "    for i in range(1, len(array)-1):\n",
    "        if max < array[i]:\n",
    "            max  = array[i]\n",
    "            pos = i\n",
    "    array[pos] = 0\n",
    "    return array\n",
    "    \n",
    "\n"
   ]
  },
  {
   "cell_type": "markdown",
   "id": "3cac656b",
   "metadata": {},
   "source": [
    "**3.** Построить прямое произведение массивов (все комбинации с каждым элементом). На вход подается двумерный массив"
   ]
  },
  {
   "cell_type": "code",
   "execution_count": 151,
   "id": "3396b764",
   "metadata": {},
   "outputs": [],
   "source": [
    "def full_multiply(arrays):\n",
    "    arrays = [np.asarray(a) for a in arrays]\n",
    "    shape = map(len, arrays)\n",
    "\n",
    "    ix = np.indices(shape, dtype=int)\n",
    "    ix = ix.reshape(len(arrays), -1).T\n",
    "\n",
    "    for n, _ in enumerate(arrays):\n",
    "        ix[:, n] = arrays[n][ix[:, n]]\n",
    "\n",
    "    return ix\n",
    "\n",
    "print(full_multiply(np.random.randint(1, 10, (2, 5))))"
   ]
  },
  {
   "cell_type": "markdown",
   "id": "674c9354",
   "metadata": {},
   "source": [
    "**4.** Даны 2 массива A (8x3) и B (2x2). Найти строки в A, которые содержат элементы из каждой строки в B, независимо от порядка элементов в B"
   ]
  },
  {
   "cell_type": "code",
   "execution_count": 152,
   "id": "cb664782",
   "metadata": {},
   "outputs": [],
   "source": [
    "a = np.arange(24).reshape(8, 3)\n",
    "b = np.array([[3, 4], [4, 5]])\n",
    "print(a, \"\\n\\n\", b)\n",
    "\n",
    "for i in range(8):\n",
    "    count = 0\n",
    "    for i_b in range(2):\n",
    "        if b[i_b, 0] in a[i, :] and b[i_b, 1] in a[i, :]:\n",
    "            count+=1\n",
    "    if count == 2:\n",
    "        print(\"Это строка \", i+1)"
   ]
  },
  {
   "cell_type": "markdown",
   "id": "fa46533b",
   "metadata": {},
   "source": [
    "**5.** Дана 10x3 матрица, найти строки из неравных значений (например строка [2,2,3] остается, строка [3,3,3] удаляется)"
   ]
  },
  {
   "cell_type": "code",
   "execution_count": 153,
   "id": "fa545b23",
   "metadata": {},
   "outputs": [],
   "source": [
    "import copy\n",
    "a = np.random.randint(1, 3, (10, 3))\n",
    "print(*a)\n",
    "count = 0\n",
    "res = copy.deepcopy(a)\n",
    "for i in range(a.shape[0]):\n",
    "    if np.all(a[i]==a[i][0]):\n",
    "        res = np.delete(res, i-count, axis=0)\n",
    "        count+=1\n",
    "        \n",
    "print(*res, \"\\n\\n\")\n",
    "\n",
    "#2nd\n",
    "Z = np.random.randint(1,3,(10,3))\n",
    "E = np.logical_and.reduce(Z[:,1:] == Z[:,:-1], axis=1)\n",
    "U = Z[~E]\n",
    "print(*Z)\n",
    "print(*U)"
   ]
  },
  {
   "cell_type": "markdown",
   "id": "28f0d116",
   "metadata": {},
   "source": [
    "**6.** Дан двумерный массив. Удалить те строки, которые повторяются"
   ]
  },
  {
   "cell_type": "code",
   "execution_count": 154,
   "id": "83d2c0b7",
   "metadata": {},
   "outputs": [],
   "source": [
    "arr = np.random.randint(1, 3, (20, 3))\n",
    "print(*arr)\n",
    "count = 0\n",
    "for i in range(arr.shape[0] - count):\n",
    "    count = 0\n",
    "    for j in range(i+1, arr.shape[0]-count):\n",
    "        if np.all(arr[i] == arr[j-count][:]):\n",
    "            arr = np.delete(arr, j-count, axis=0)\n",
    "            count += 1\n",
    "\n",
    "print(\"The right version\", *arr)"
   ]
  },
  {
   "cell_type": "markdown",
   "id": "6daa9e37",
   "metadata": {},
   "source": [
    "______\n",
    "______"
   ]
  },
  {
   "cell_type": "markdown",
   "id": "cfbfcaff",
   "metadata": {},
   "source": [
    "Для каждой из следующих задач (1-5) нужно привести 2 реализации – одна без использования numpy (cчитайте, что там, где на входе или выходе должны быть numpy array, будут просто списки), а вторая полностью векторизованная с использованием numpy (без использования питоновских циклов/map/list comprehension).\n",
    "\n",
    "\n",
    "__Замечание 1.__ Можно считать, что все указанные объекты непустые (к примеру, в __задаче 1__ на диагонали матрицы есть ненулевые элементы).\n",
    "\n",
    "__Замечание 2.__ Для большинства задач решение занимает не больше 1-2 строк."
   ]
  },
  {
   "cell_type": "markdown",
   "id": "673cac7f",
   "metadata": {},
   "source": [
    "___"
   ]
  },
  {
   "cell_type": "markdown",
   "id": "ca6f585e",
   "metadata": {},
   "source": [
    "* __Задача 1__: Подсчитать произведение ненулевых элементов на диагонали прямоугольной матрицы.  \n",
    " Например, для X = np.array([[1, 0, 1], [2, 0, 2], [3, 0, 3], [4, 4, 4]]) ответ 3."
   ]
  },
  {
   "cell_type": "code",
   "execution_count": 156,
   "id": "065862fc",
   "metadata": {},
   "outputs": [],
   "source": [
    "# если все нулевые у меня выводит 1\n",
    "\n",
    "#1st\n",
    "\n",
    "from functools import reduce\n",
    "arr = [[1, 0, 1],[2, 0, 2],[3, 0, 3], [4, 4, 4]]\n",
    "print(reduce(lambda x, y: x * y, [arr[i][i] if arr[i][i] != 0 else 1 for i in range(len(arr[0]))]))\n",
    "\n",
    "#2nd with numpy the same\n",
    "a = np.array([[1, 0, 1],[2, 0, 2],[3, 0, 3], [4, 4, 4]])\n",
    "print(np.prod(np.where(np.diagonal(a) != 0, np.diagonal(a), 1)))"
   ]
  },
  {
   "cell_type": "markdown",
   "id": "9fc51d41",
   "metadata": {},
   "source": [
    "* __Задача 2__: Даны два вектора x и y. Проверить, задают ли они одно и то же мультимножество.  \n",
    "  Например, для x = np.array([1, 2, 2, 4]), y = np.array([4, 2, 1, 2]) ответ True."
   ]
  },
  {
   "cell_type": "code",
   "execution_count": 157,
   "id": "a809e02f",
   "metadata": {},
   "outputs": [],
   "source": [
    "#1st\n",
    "x = [1, 2, 2, 4]\n",
    "y = [4, 2, 1, 2]\n",
    "x.sort()\n",
    "y.sort()\n",
    "print(reduce(lambda x, y : x and y, map(lambda p, q: p == q, x, y), True))\n",
    "\n",
    "\n",
    "#2nd\n",
    "x = np.array([1, 2, 2, 4])\n",
    "y = np.array([4, 2, 1, 2])\n",
    "print(np.all(x.sort() == y.sort()))\n"
   ]
  },
  {
   "cell_type": "markdown",
   "id": "b9c185c7",
   "metadata": {},
   "source": [
    "* __Задача 3__: Найти максимальный элемент в векторе x среди элементов, перед которыми стоит ноль. \n",
    " Например, для x = np.array([6, 2, 0, 3, 0, 0, 5, 7, 0]) ответ 5."
   ]
  },
  {
   "cell_type": "code",
   "execution_count": 158,
   "id": "b57df008",
   "metadata": {},
   "outputs": [],
   "source": [
    "#1st\n",
    "x = [6, 2, 0, 3, 0, 0, 5, 7, 0]\n",
    "print(max([x[i] for i in range(1, len(x)) if x[i-1] == 0]))\n",
    "\n",
    "#2nd\n",
    "x = np.array([6, 2, 0, 3, 0, 0, 5, 7, 0])\n",
    "print(np.max(x[np.where(x[:-1] == 0)[0] + 1]))"
   ]
  },
  {
   "cell_type": "markdown",
   "id": "480be4ce",
   "metadata": {},
   "source": [
    "* __Задача 4__: Реализовать кодирование длин серий (Run-length encoding). Для некоторого вектора x необходимо вернуть кортеж из двух векторов одинаковой длины. Первый содержит числа, а второй - сколько раз их нужно повторить.  \n",
    " Например, для x = np.array([2, 2, 2, 3, 3, 3, 5]) ответ (np.array([2, 3, 5]), np.array([3, 3, 1]))."
   ]
  },
  {
   "cell_type": "code",
   "execution_count": 159,
   "id": "3c592124",
   "metadata": {},
   "outputs": [],
   "source": [
    "#1st\n",
    "x = [2, 2, 2, 3, 3, 3, 5]\n",
    "print((list(set(x)), [x.count(i) for i in set(x)]))\n",
    "\n",
    "#2nd\n",
    "x = np.array([2, 2, 3, 2, 3, 3, 5])\n",
    "print((np.unique(x), np.delete(np.bincount(x), np.where(np.bincount(x)==0)[0])))"
   ]
  },
  {
   "cell_type": "markdown",
   "id": "077532ec",
   "metadata": {},
   "source": [
    "* __Задача 5__: Даны две выборки объектов - X и Y. Вычислить матрицу евклидовых расстояний между объектами. Сравните с функцией scipy.spatial.distance.cdist по скорости работы."
   ]
  },
  {
   "cell_type": "code",
   "execution_count": 160,
   "id": "1e807797",
   "metadata": {},
   "outputs": [],
   "source": [
    "from scipy.spatial import distance\n",
    "\n",
    "coords = [(35.0456, -85.2672), (12, 33), (12, 36), (61, 37)]\n",
    "coords_2 = [(35.9728, -83.9422), (31, 44), (52, 61), (73, 38)]\n",
    "\n",
    "#каждая с каждой\n",
    "print(distance.cdist(coords, coords_2, 'euclidean'))\n",
    "\n",
    "#соответствующие координаты, то, что на диагонали у матрицы выше)\n",
    "print(np.linalg.norm(np.array(coords) - np.array(coords_2), axis=1))\n",
    "\n",
    "#или так\n",
    "print(np.sqrt(np.sum(np.square(np.array(coords) - np.array(coords_2)), axis=1)))\n",
    "\n",
    "#без numpy\n",
    "print(list(map(lambda x, y: np.sqrt(np.sum(np.square(np.array(x) - np.array(y)))), coords, coords_2)))"
   ]
  },
  {
   "cell_type": "markdown",
   "id": "973e8064",
   "metadata": {},
   "source": [
    "_______\n",
    "________"
   ]
  },
  {
   "cell_type": "markdown",
   "id": "1104acb7",
   "metadata": {},
   "source": [
    "* #### __Задача 6__: CrunchieMunchies __*__\n",
    "\n",
    "Вы работаете в отделе маркетинга пищевой компании MyCrunch, которая разрабатывает новый вид вкусных, полезных злаков под названием **CrunchieMunchies**.\n",
    "\n",
    "Вы хотите продемонстрировать потребителям, насколько полезны ваши хлопья по сравнению с другими ведущими брендами, поэтому вы собрали данные о питании нескольких разных конкурентов.\n",
    "\n",
    "Ваша задача - использовать вычисления Numpy для анализа этих данных и доказать, что ваши **СrunchieMunchies** - самый здоровый выбор для потребителей.\n"
   ]
  },
  {
   "cell_type": "code",
   "execution_count": 1,
   "id": "10a77f8d",
   "metadata": {},
   "outputs": [],
   "source": [
    "import numpy as np"
   ]
  },
  {
   "cell_type": "markdown",
   "id": "ab87cb03",
   "metadata": {},
   "source": [
    "1. Просмотрите файл cereal.csv. Этот файл содержит количества калорий для различных марок хлопьев. Загрузите данные из файла и сохраните их как calorie_stats."
   ]
  },
  {
   "cell_type": "code",
   "execution_count": 5,
   "id": "9681ebf2",
   "metadata": {},
   "outputs": [
    {
     "data": {
      "text/plain": [
       "array([ 70., 120.,  70.,  50., 110., 110., 110., 130.,  90.,  90., 120.,\n",
       "       110., 120., 110., 110., 110., 100., 110., 110., 110., 100., 110.,\n",
       "       100., 100., 110., 110., 100., 120., 120., 110., 100., 110., 100.,\n",
       "       110., 120., 120., 110., 110., 110., 140., 110., 100., 110., 100.,\n",
       "       150., 150., 160., 100., 120., 140.,  90., 130., 120., 100.,  50.,\n",
       "        50., 100., 100., 120., 100.,  90., 110., 110.,  80.,  90.,  90.,\n",
       "       110., 110.,  90., 110., 140., 100., 110., 110., 100., 100., 110.])"
      ]
     },
     "execution_count": 5,
     "metadata": {},
     "output_type": "execute_result"
    }
   ],
   "source": [
    "calorie_stats = np.loadtxt(\"./data/cereal.csv\", delimiter=\",\")\n",
    "calorie_stats"
   ]
  },
  {
   "cell_type": "markdown",
   "id": "139cfbd8",
   "metadata": {},
   "source": [
    "2. В одной порции CrunchieMunchies содержится 60 калорий. Насколько выше среднее количество калорий у ваших конкурентов?\n",
    "\n",
    "Сохраните ответ в переменной average_calories и распечатайте переменную в терминале"
   ]
  },
  {
   "cell_type": "code",
   "execution_count": 10,
   "id": "7036d240",
   "metadata": {},
   "outputs": [
    {
     "name": "stdout",
     "output_type": "stream",
     "text": [
      "46.883116883116884\n"
     ]
    }
   ],
   "source": [
    "average_calories = np.mean(calorie_stats)-60\n",
    "print(average_calories)"
   ]
  },
  {
   "cell_type": "markdown",
   "id": "b2ddb4cd",
   "metadata": {},
   "source": [
    "3. Корректно ли среднее количество калорий отражает распределение набора данных? Давайте отсортируем данные и посмотрим.\n",
    "\n",
    "Отсортируйте данные и сохраните результат в переменной calorie_stats_sorted. Распечатайте отсортированную информацию"
   ]
  },
  {
   "cell_type": "code",
   "execution_count": 12,
   "id": "46eeb4ed",
   "metadata": {},
   "outputs": [
    {
     "name": "stdout",
     "output_type": "stream",
     "text": [
      "[50.0, 50.0, 50.0, 70.0, 70.0, 80.0, 90.0, 90.0, 90.0, 90.0, 90.0, 90.0, 90.0, 100.0, 100.0, 100.0, 100.0, 100.0, 100.0, 100.0, 100.0, 100.0, 100.0, 100.0, 100.0, 100.0, 100.0, 100.0, 100.0, 100.0, 110.0, 110.0, 110.0, 110.0, 110.0, 110.0, 110.0, 110.0, 110.0, 110.0, 110.0, 110.0, 110.0, 110.0, 110.0, 110.0, 110.0, 110.0, 110.0, 110.0, 110.0, 110.0, 110.0, 110.0, 110.0, 110.0, 110.0, 110.0, 110.0, 120.0, 120.0, 120.0, 120.0, 120.0, 120.0, 120.0, 120.0, 120.0, 120.0, 130.0, 130.0, 140.0, 140.0, 140.0, 150.0, 150.0, 160.0]\n"
     ]
    }
   ],
   "source": [
    "calorie_stats_sorted = sorted(calorie_stats)\n",
    "print(calorie_stats_sorted)"
   ]
  },
  {
   "cell_type": "markdown",
   "id": "4dc74116",
   "metadata": {},
   "source": [
    "4. Похоже, что большинство значений выше среднего. Давайте посмотрим, является ли медиана наиболее корректным показателем набора данных.\n",
    "\n",
    "Вычислите медиану набора данных и сохраните свой ответ в median_calories. Выведите медиану, чтобы вы могли видеть, как она сравнивается со средним значением."
   ]
  },
  {
   "cell_type": "code",
   "execution_count": 16,
   "id": "b56627c3",
   "metadata": {},
   "outputs": [
    {
     "name": "stdout",
     "output_type": "stream",
     "text": [
      "110.0\n"
     ]
    }
   ],
   "source": [
    "median_calories = np.median(calorie_stats)\n",
    "print(median_calories)"
   ]
  },
  {
   "cell_type": "markdown",
   "id": "a63ab72f",
   "metadata": {},
   "source": [
    "5. В то время как медиана показывает, что по крайней мере половина наших значений составляет более 100 калорий, было бы более впечатляюще показать, что значительная часть конкурентов имеет более высокое количество калорий, чем CrunchieMunchies.\n",
    "\n",
    "Рассчитайте различные процентили и распечатайте их, пока не найдете наименьший процентиль, превышающий 60 калорий. Сохраните это значение в переменной nth_percentile."
   ]
  },
  {
   "cell_type": "code",
   "execution_count": 34,
   "id": "fe80ce03",
   "metadata": {},
   "outputs": [
    {
     "name": "stdout",
     "output_type": "stream",
     "text": [
      "60.007999999999996\n"
     ]
    }
   ],
   "source": [
    "nth_percentile = np.percentile(calorie_stats, 3.29)\n",
    "print(nth_percentile)"
   ]
  },
  {
   "cell_type": "markdown",
   "id": "a2a3c5aa",
   "metadata": {},
   "source": [
    "6. Хотя процентиль показывает нам, что у большинства конкурентов количество калорий намного выше, это неудобная концепция для использования в маркетинговых материалах.\n",
    "\n",
    "Вместо этого давайте подсчитаем процент хлопьев, в которых содержится более 60 калорий на порцию. Сохраните свой ответ в переменной more_calories и распечатайте его"
   ]
  },
  {
   "cell_type": "code",
   "execution_count": 38,
   "id": "ade0f6ea",
   "metadata": {},
   "outputs": [
    {
     "name": "stdout",
     "output_type": "stream",
     "text": [
      "96.1038961038961\n"
     ]
    }
   ],
   "source": [
    "more_calories = len([i for i in calorie_stats_sorted if i > 60])/len(calorie_stats_sorted)*100\n",
    "print(more_calories)"
   ]
  },
  {
   "cell_type": "markdown",
   "id": "1735d65b",
   "metadata": {},
   "source": [
    "7. Это действительно высокий процент. Это будет очень полезно, когда мы будем продвигать CrunchieMunchies. Но один вопрос заключается в том, насколько велики различия в наборе данных? Можем ли мы сделать обобщение, что в большинстве злаков содержится около 100 калорий или разброс еще больше?\n",
    "\n",
    "Рассчитайте величину отклонения, найдя стандартное отклонение, Сохраните свой ответ в calorie_std и распечатайте на терминале. Как мы можем включить эту ценность в наш анализ?"
   ]
  },
  {
   "cell_type": "code",
   "execution_count": 42,
   "id": "85c8df1f",
   "metadata": {},
   "outputs": [
    {
     "name": "stdout",
     "output_type": "stream",
     "text": [
      "19.35718533390827\n"
     ]
    }
   ],
   "source": [
    "calorie_std = np.std(calorie_stats)\n",
    "print(calorie_std)\n",
    "# так как стандартное отклонение составляет 19.35, то это нам показывает что данные относительно среднего распределены не близко\n",
    "# то и в среднем может быть +- стандартное отклонение наверное"
   ]
  },
  {
   "cell_type": "markdown",
   "id": "037455c5",
   "metadata": {},
   "source": [
    "8. Напишите короткий абзац, в котором кратко изложите свои выводы и то, как, по вашему мнению, эти данные могут быть использованы в интересах Mycrunch при маркетинге CrunchieMunchies."
   ]
  },
  {
   "cell_type": "code",
   "execution_count": 167,
   "id": "c260fee9",
   "metadata": {},
   "outputs": [],
   "source": [
    "# так как мы хотим показать насколько наши хлопья полезные отнсительно других, то мы можем использовать то, что 96% хлопьев \n",
    "# содержат больше калорий чем наши хлопья, также мы можем использовать то, что мы можем приблизить к нашему среднему значению калорий\n",
    "# наше количество калорий, если нам понадобиться менять состав и тд"
   ]
  }
 ],
 "metadata": {
  "kernelspec": {
   "display_name": "Python 3 (ipykernel)",
   "language": "python",
   "name": "python3"
  },
  "language_info": {
   "codemirror_mode": {
    "name": "ipython",
    "version": 3
   },
   "file_extension": ".py",
   "mimetype": "text/x-python",
   "name": "python",
   "nbconvert_exporter": "python",
   "pygments_lexer": "ipython3",
   "version": "3.8.10"
  }
 },
 "nbformat": 4,
 "nbformat_minor": 5
}
