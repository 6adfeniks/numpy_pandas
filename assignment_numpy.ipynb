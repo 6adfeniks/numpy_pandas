{
 "cells": [
  {
   "cell_type": "code",
   "execution_count": 1,
   "metadata": {},
   "outputs": [],
   "source": [
    "import numpy as np "
   ]
  },
  {
   "cell_type": "markdown",
   "metadata": {},
   "source": [
    "1. Дан случайный массив, поменять знак у элементов, значения которых между 3 и 8"
   ]
  },
  {
   "cell_type": "code",
   "execution_count": null,
   "metadata": {},
   "outputs": [],
   "source": [
    "#loop\n",
    "rand_array = np.random.randint(1, 10, 20) \n",
    "print(\"Before\", rand_array)\n",
    "for i in range(len(rand_array)):\n",
    "    if rand_array[i] in range(4,8):\n",
    "        rand_array[i] = -rand_array[i] \n",
    "print(\"After\", rand_array)\n",
    "\n",
    "#another one\n",
    "rand_array = np.arange(11)\n",
    "print(\"Before\", rand_array)\n",
    "rand_array[(3 < rand_array) & (rand_array < 8)] *= -1\n",
    "print(\"After\", rand_array)"
   ]
  },
  {
   "cell_type": "markdown",
   "metadata": {},
   "source": [
    "2. Заменить максимальный элемент случайного массива на 0"
   ]
  },
  {
   "cell_type": "code",
   "execution_count": null,
   "metadata": {},
   "outputs": [],
   "source": [
    "rand_array = np.random.randint(1, 10, 20) \n",
    "print(\"Before\", rand_array)\n",
    "rand_array[list(rand_array).index(max(rand_array))] = 0\n",
    "print(\"After\", rand_array)\n",
    "\n",
    "#или\n",
    "\n",
    "rand_array_v1 = np.random.randint(1, 10, 20) \n",
    "print(\"Before\", rand_array_v1)\n",
    "rand_array_v1[rand_array_v1.argmax()] = 0\n",
    "print(\"After\", rand_array_v1)\n",
    "\n",
    "# или\n",
    "\n",
    "rand_array_2 = np.random.randint(1, 10, 20) \n",
    "max = rand_array_2[0] \n",
    "pos = 0\n",
    "print(\"\\nBefore\", rand_array_2)\n",
    "for i in range(1, len(rand_array_2)-1):\n",
    "    if max < rand_array_2[i]:\n",
    "        max  = rand_array_2[i]\n",
    "        pos = i\n",
    "rand_array_2[pos] = 0\n",
    "print(\"After\", rand_array_2)\n",
    "\n",
    "#еще reduce можно функцию max передать\n",
    "\n",
    "#function\n",
    "def find_max(array):\n",
    "    max = array[0]\n",
    "    pos = 0\n",
    "    for i in range(1, len(array)-1):\n",
    "        if max < array[i]:\n",
    "            max  = array[i]\n",
    "            pos = i\n",
    "    array[pos] = 0\n",
    "    return array\n",
    "\n"
   ]
  },
  {
   "cell_type": "markdown",
   "metadata": {},
   "source": [
    "3. Построить прямое произведение массивов (все комбинации с каждым элементом). На вход подается двумерный массив"
   ]
  },
  {
   "cell_type": "code",
   "execution_count": null,
   "metadata": {},
   "outputs": [],
   "source": [
    " def full_multiply(arrays):\n",
    "    arrays = [np.asarray(a) for a in arrays]\n",
    "    shape = map(len, arrays)\n",
    "\n",
    "    ix = np.indices(shape, dtype=int)\n",
    "    ix = ix.reshape(len(arrays), -1).T\n",
    "\n",
    "    for n, _ in enumerate(arrays):\n",
    "        ix[:, n] = arrays[n][ix[:, n]]\n",
    "\n",
    "    return ix\n",
    "\n",
    "print(full_multiply(np.random.randint(1, 10, (2, 5))))\n",
    "\n",
    "# rand_array = np.random.randint(1, 10, (2, 20))\n",
    "# print(\"\\nBefore\", rand_array)\n",
    "# rand_array_2 = np.array([])\n",
    "# for i in range(len(rand_array[0,:])):\n",
    "#     for j in range(len(rand_array[1,:])):\n",
    "#         rand_array_2 = np.append(rand_array_2, rand_array[0, i] * rand_array[1, j])                         \n",
    "# print(\"After\", rand_array_2)  \n",
    "\n"
   ]
  },
  {
   "cell_type": "markdown",
   "metadata": {},
   "source": [
    "4. Даны 2 массива A (8x3) и B (2x2). Найти строки в A, которые содержат элементы из каждой строки в B, независимо от порядка элементов в B"
   ]
  },
  {
   "cell_type": "code",
   "execution_count": null,
   "metadata": {},
   "outputs": [],
   "source": [
    "a = np.arange(24).reshape(8, 3)\n",
    "b = np.array([[3, 4], [4, 5]])\n",
    "print(a, \"\\n\\n\", b)\n",
    "\n",
    "for i in range(8):\n",
    "    count = 0\n",
    "    for i_b in range(2):\n",
    "        if b[i_b, 0] in a[i, :] and b[i_b, 1] in a[i, :]:\n",
    "            count+=1\n",
    "    if count == 2:\n",
    "        print(\"Это строка \", i+1)"
   ]
  },
  {
   "cell_type": "markdown",
   "metadata": {},
   "source": [
    "5. Дана 10x3 матрица, найти строки из неравных значений (например строка [2,2,3] остается, строка [3,3,3] удаляется)"
   ]
  },
  {
   "cell_type": "code",
   "execution_count": null,
   "metadata": {},
   "outputs": [],
   "source": [
    "a = np.random.randint(1, 3, 30).reshape(10, 3)\n",
    "print(a)\n",
    "for i in range(a.shape[0]):\n",
    "    if np.all(a[i]==a[i][0]):\n",
    "        print(\"Это строка \", i+1)\n",
    "        res = np.delete(a, i, axis=0)\n",
    "        \n",
    "print(\"\\n\\n\", res)\n"
   ]
  },
  {
   "cell_type": "markdown",
   "metadata": {},
   "source": [
    "6. Дан двумерный массив. Удалить те строки, которые повторяются"
   ]
  },
  {
   "cell_type": "code",
   "execution_count": 82,
   "metadata": {},
   "outputs": [
    {
     "name": "stdout",
     "output_type": "stream",
     "text": [
      "[[4 2]\n",
      " [4 5]\n",
      " [5 2]\n",
      " [5 5]]\n"
     ]
    }
   ],
   "source": [
    "def cartesian(arrays):\n",
    "    arrays = [np.asarray(a) for a in arrays]\n",
    "    shape = map(len, arrays)\n",
    "\n",
    "    ix = np.indices(shape, dtype=int)\n",
    "    ix = ix.reshape(len(arrays), -1).T\n",
    "\n",
    "    for n, arr in enumerate(arrays):\n",
    "        ix[:, n] = arrays[n][ix[:, n]]\n",
    "\n",
    "    return ix\n",
    "\n",
    "print(cartesian(([4, 5], [2, 5])))"
   ]
  }
 ],
 "metadata": {
  "interpreter": {
   "hash": "b671c20432fcd147198c92e7f072af9e705f087eb990bee22b07f08caab9f630"
  },
  "kernelspec": {
   "display_name": "Python 3.9.5 64-bit",
   "language": "python",
   "name": "python3"
  },
  "language_info": {
   "codemirror_mode": {
    "name": "ipython",
    "version": 3
   },
   "file_extension": ".py",
   "mimetype": "text/x-python",
   "name": "python",
   "nbconvert_exporter": "python",
   "pygments_lexer": "ipython3",
   "version": "3.9.5"
  },
  "orig_nbformat": 4
 },
 "nbformat": 4,
 "nbformat_minor": 2
}
