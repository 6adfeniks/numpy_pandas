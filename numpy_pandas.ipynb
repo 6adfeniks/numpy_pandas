{
 "cells": [
  {
   "cell_type": "code",
   "execution_count": 1,
   "metadata": {},
   "outputs": [],
   "source": [
    "import numpy as np "
   ]
  },
  {
   "cell_type": "markdown",
   "metadata": {},
   "source": [
    "1. Дан случайный массив, поменять знак у элементов, значения которых между 3 и 8"
   ]
  },
  {
   "cell_type": "code",
   "execution_count": null,
   "metadata": {},
   "outputs": [],
   "source": [
    "#loop\n",
    "rand_array = np.random.randint(1, 10, 20) \n",
    "print(\"Before\", rand_array)\n",
    "for i in range(len(rand_array)):\n",
    "    if rand_array[i] in range(4,8):\n",
    "        rand_array[i] = -rand_array[i] \n",
    "print(\"After\", rand_array)\n",
    "\n",
    "#another one\n",
    "rand_array = np.arange(11)\n",
    "print(\"Before\", rand_array)\n",
    "rand_array[(3 < rand_array) & (rand_array < 8)] *= -1\n",
    "print(\"After\", rand_array)"
   ]
  },
  {
   "cell_type": "markdown",
   "metadata": {},
   "source": [
    "2.Заменить максимальный элемент случайного массива на 0"
   ]
  },
  {
   "cell_type": "code",
   "execution_count": null,
   "metadata": {},
   "outputs": [],
   "source": [
    "rand_array = np.random.randint(1, 10, 20) \n",
    "print(\"Before\", rand_array)\n",
    "rand_array[list(rand_array).index(max(rand_array))] = 0\n",
    "print(\"After\", rand_array)\n",
    "\n",
    "#или\n",
    "\n",
    "rand_array_v1 = np.random.randint(1, 10, 20) \n",
    "print(\"Before\", rand_array_v1)\n",
    "rand_array_v1[rand_array_v1.argmax()] = 0\n",
    "print(\"After\", rand_array_v1)\n",
    "\n",
    "# или\n",
    "\n",
    "rand_array_2 = np.random.randint(1, 10, 20) \n",
    "max = rand_array_2[0] \n",
    "pos = 0\n",
    "print(\"\\nBefore\", rand_array_2)\n",
    "for i in range(1, len(rand_array_2)-1):\n",
    "    if max < rand_array_2[i]:\n",
    "        max  = rand_array_2[i]\n",
    "        pos = i\n",
    "rand_array_2[pos] = 0\n",
    "print(\"After\", rand_array_2)\n",
    "\n",
    "#еще reduce можно функцию max передать\n",
    "\n",
    "#function\n",
    "def find_max(array):\n",
    "    max = array[0]\n",
    "    pos = 0\n",
    "    for i in range(1, len(array)-1):\n",
    "        if max < array[i]:\n",
    "            max  = array[i]\n",
    "            pos = i\n",
    "    array[pos] = 0\n",
    "    return array\n",
    "    \n",
    "\n"
   ]
  },
  {
   "cell_type": "markdown",
   "metadata": {},
   "source": [
    "3. Построить прямое произведение массивов (все комбинации с каждым элементом). На вход подается двумерный массив"
   ]
  },
  {
   "cell_type": "code",
   "execution_count": null,
   "metadata": {},
   "outputs": [],
   "source": [
    " def full_multiply(arrays):\n",
    "    arrays = [np.asarray(a) for a in arrays]\n",
    "    shape = map(len, arrays)\n",
    "\n",
    "    ix = np.indices(shape, dtype=int)\n",
    "    ix = ix.reshape(len(arrays), -1).T\n",
    "\n",
    "    for n, _ in enumerate(arrays):\n",
    "        ix[:, n] = arrays[n][ix[:, n]]\n",
    "\n",
    "    return ix\n",
    "\n",
    "print(full_multiply(np.random.randint(1, 10, (2, 5))))\n",
    "\n",
    "# rand_array = np.random.randint(1, 10, (2, 20))\n",
    "# print(\"\\nBefore\", rand_array)\n",
    "# rand_array_2 = np.array([])\n",
    "# for i in range(len(rand_array[0,:])):\n",
    "#     for j in range(len(rand_array[1,:])):\n",
    "#         rand_array_2 = np.append(rand_array_2, rand_array[0, i] * rand_array[1, j])                         \n",
    "# print(\"After\", rand_array_2)  \n",
    "\n"
   ]
  },
  {
   "cell_type": "markdown",
   "metadata": {},
   "source": [
    "4. Даны 2 массива A (8x3) и B (2x2). Найти строки в A, которые содержат элементы из каждой строки в B, независимо от порядка элементов в B"
   ]
  },
  {
   "cell_type": "code",
   "execution_count": null,
   "metadata": {},
   "outputs": [],
   "source": [
    "a = np.arange(24).reshape(8, 3)\n",
    "b = np.array([[3, 4], [4, 5]])\n",
    "print(a, \"\\n\\n\", b)\n",
    "\n",
    "for i in range(8):\n",
    "    count = 0\n",
    "    for i_b in range(2):\n",
    "        if b[i_b, 0] in a[i, :] and b[i_b, 1] in a[i, :]:\n",
    "            count+=1\n",
    "    if count == 2:\n",
    "        print(\"Это строка \", i+1)"
   ]
  },
  {
   "cell_type": "markdown",
   "metadata": {},
   "source": [
    "5. Дана 10x3 матрица, найти строки из неравных значений (например строка [2,2,3] остается, строка [3,3,3] удаляется)"
   ]
  },
  {
   "cell_type": "code",
   "execution_count": null,
   "metadata": {},
   "outputs": [],
   "source": [
    "import copy\n",
    "a = np.random.randint(1, 3, (10, 3))\n",
    "print(*a)\n",
    "count = 0\n",
    "res = copy.deepcopy(a)\n",
    "for i in range(a.shape[0]):\n",
    "    if np.all(a[i]==a[i][0]):\n",
    "        res = np.delete(res, i-count, axis=0)\n",
    "        count+=1\n",
    "        \n",
    "print(*res, \"\\n\\n\")\n",
    "\n",
    "#2nd\n",
    "Z = np.random.randint(1,3,(10,3))\n",
    "E = np.logical_and.reduce(Z[:,1:] == Z[:,:-1], axis=1)\n",
    "U = Z[~E]\n",
    "print(*Z)\n",
    "print(*U)"
   ]
  },
  {
   "cell_type": "markdown",
   "metadata": {},
   "source": [
    "6. Дан двумерный массив. Удалить те строки, которые повторяются"
   ]
  },
  {
   "cell_type": "code",
   "execution_count": null,
   "metadata": {},
   "outputs": [],
   "source": [
    "arr = np.random.randint(1, 3, (20, 3))\n",
    "print(*arr)\n",
    "count = 0\n",
    "for i in range(arr.shape[0] - count):\n",
    "    count = 0\n",
    "    for j in range(i+1, arr.shape[0]-count):\n",
    "        if np.all(arr[i] == arr[j-count][:]):\n",
    "            arr = np.delete(arr, j-count, axis=0)\n",
    "            count += 1\n",
    "\n",
    "print(\"The right version\", *arr)"
   ]
  },
  {
   "cell_type": "markdown",
   "metadata": {},
   "source": [
    "Для каждой из следующих задач (1-5) нужно привести 2 реализации – одна без использования numpy (cчитайте, что там, где на входе или выходе должны быть numpy array, будут просто списки), а вторая полностью векторизованная с использованием numpy (без использования питоновских циклов/map/list comprehension).\n",
    "\n",
    "Замечание 1. Можно считать, что все указанные объекты непустые (к примеру, в задаче 1 на диагонали матрицы есть ненулевые элементы).\n",
    "\n",
    "Замечание 2. Для большинства задач решение занимает не больше 1-2 строк."
   ]
  },
  {
   "cell_type": "markdown",
   "metadata": {},
   "source": [
    "Задача 1: Подсчитать произведение ненулевых элементов на диагонали прямоугольной матрицы.\n",
    "Например, для X = np.array([[1, 0, 1], [2, 0, 2], [3, 0, 3], [4, 4, 4]]) ответ 3."
   ]
  },
  {
   "cell_type": "code",
   "execution_count": null,
   "metadata": {},
   "outputs": [],
   "source": [
    "# если все нулевые у меня выводит 1\n",
    "\n",
    "#1st\n",
    "\n",
    "from functools import reduce\n",
    "arr = [[1, 0, 1],[2, 0, 2],[3, 0, 3], [4, 4, 4]]\n",
    "print(reduce(lambda x, y: x * y, [arr[i][i] if arr[i][i] != 0 else 1 for i in range(len(arr[0]))]))\n",
    "\n",
    "#2nd with numpy the same\n",
    "a = np.array([[1, 0, 1],[2, 0, 2],[3, 0, 3], [4, 4, 4]])\n",
    "print(np.prod(np.where(np.diagonal(a) != 0, np.diagonal(a), 1)))\n"
   ]
  },
  {
   "cell_type": "markdown",
   "metadata": {},
   "source": [
    "Задача 2: Даны два вектора x и y. Проверить, задают ли они одно и то же мультимножество.\n",
    "Например, для x = np.array([1, 2, 2, 4]), y = np.array([4, 2, 1, 2]) ответ True."
   ]
  },
  {
   "cell_type": "code",
   "execution_count": null,
   "metadata": {},
   "outputs": [],
   "source": [
    "#1st\n",
    "x = [1, 2, 2, 4]\n",
    "y = [4, 2, 1, 2]\n",
    "x.sort()\n",
    "y.sort()\n",
    "print(reduce(lambda x, y : x and y, map(lambda p, q: p == q, x, y), True))\n",
    "\n",
    "\n",
    "#2nd\n",
    "x = np.array([1, 2, 2, 4])\n",
    "y = np.array([4, 2, 1, 2])\n",
    "print(np.all(x.sort() == y.sort()))\n"
   ]
  },
  {
   "cell_type": "markdown",
   "metadata": {},
   "source": [
    "Задача 3: Найти максимальный элемент в векторе x среди элементов, перед которыми стоит ноль. Например, для x = np.array([6, 2, 0, 3, 0, 0, 5, 7, 0]) ответ 5."
   ]
  },
  {
   "cell_type": "code",
   "execution_count": null,
   "metadata": {},
   "outputs": [],
   "source": [
    "#1st\n",
    "x = [6, 2, 0, 3, 0, 0, 5, 7, 0]\n",
    "print(max([x[i] for i in range(1, len(x)) if x[i-1] == 0]))\n",
    "\n",
    "#2nd\n",
    "x = np.array([6, 2, 0, 3, 0, 0, 5, 7, 0])\n",
    "print(np.max(x[np.where(x[:-1] == 0)[0] + 1]))\n",
    "\n",
    "\n"
   ]
  },
  {
   "cell_type": "markdown",
   "metadata": {},
   "source": [
    "Задача 4: Реализовать кодирование длин серий (Run-length encoding). Для некоторого вектора x необходимо вернуть кортеж из двух векторов одинаковой длины. Первый содержит числа, а второй - сколько раз их нужно повторить.\n",
    "Например, для x = np.array([2, 2, 2, 3, 3, 3, 5]) ответ (np.array([2, 3, 5]), np.array([3, 3, 1]))."
   ]
  },
  {
   "cell_type": "code",
   "execution_count": null,
   "metadata": {},
   "outputs": [],
   "source": [
    "#1st\n",
    "x = [2, 2, 2, 3, 3, 3, 5]\n",
    "print((list(set(x)), [x.count(i) for i in set(x)]))\n",
    "\n",
    "#2nd\n",
    "x = np.array([2, 2, 3, 2, 3, 3, 5])\n",
    "print((np.unique(x), np.delete(np.bincount(x), np.where(np.bincount(x)==0)[0])))\n"
   ]
  },
  {
   "cell_type": "markdown",
   "metadata": {},
   "source": [
    "Задача 5: Даны две выборки объектов - X и Y. Вычислить матрицу евклидовых расстояний между объектами. Сравните с функцией scipy.spatial.distance.cdist по скорости работы."
   ]
  },
  {
   "cell_type": "code",
   "execution_count": null,
   "metadata": {},
   "outputs": [],
   "source": [
    "from scipy.spatial import distance\n",
    "\n",
    "coords = [(35.0456, -85.2672), (12, 33), (12, 36), (61, 37)]\n",
    "coords_2 = [(35.9728, -83.9422), (31, 44), (52, 61), (73, 38)]\n",
    "\n",
    "#каждая с каждой\n",
    "print(distance.cdist(coords, coords_2, 'euclidean'))\n",
    "\n",
    "#соответствующие координаты, то, что на диагонали у матрицы выше)\n",
    "print(np.linalg.norm(np.array(coords) - np.array(coords_2), axis=1))\n",
    "\n",
    "#или так\n",
    "print(np.sqrt(np.sum(np.square(np.array(coords) - np.array(coords_2)), axis=1)))\n",
    "\n",
    "#без numpy\n",
    "print(list(map(lambda x, y: np.sqrt(np.sum(np.square(np.array(x) - np.array(y)))), coords, coords_2)))"
   ]
  },
  {
   "cell_type": "markdown",
   "metadata": {},
   "source": []
  }
 ],
 "metadata": {
  "interpreter": {
   "hash": "b671c20432fcd147198c92e7f072af9e705f087eb990bee22b07f08caab9f630"
  },
  "kernelspec": {
   "display_name": "Python 3.9.5 64-bit",
   "language": "python",
   "name": "python3"
  },
  "language_info": {
   "codemirror_mode": {
    "name": "ipython",
    "version": 3
   },
   "file_extension": ".py",
   "mimetype": "text/x-python",
   "name": "python",
   "nbconvert_exporter": "python",
   "pygments_lexer": "ipython3",
   "version": "3.9.5"
  },
  "orig_nbformat": 4
 },
 "nbformat": 4,
 "nbformat_minor": 2
}
